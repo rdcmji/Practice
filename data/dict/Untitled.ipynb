{
 "cells": [
  {
   "cell_type": "code",
   "execution_count": 1,
   "metadata": {},
   "outputs": [
    {
     "name": "stdout",
     "output_type": "stream",
     "text": [
      "44935\n"
     ]
    }
   ],
   "source": [
    "import json\n",
    "\n",
    "\n",
    "with open('vocab.msg.45000.json') as json_data:\n",
    "    data = json.load(json_data)\n",
    "    \n",
    "data = dict((v, k) for k, v in data.items())\n",
    "\n",
    "print (len(data))\n"
   ]
  },
  {
   "cell_type": "code",
   "execution_count": null,
   "metadata": {
    "collapsed": true
   },
   "outputs": [],
   "source": [
    "\n",
    "with open('sum_dict.txt', 'w') as outfile:\n",
    "    outfile.write(\"%d %s\\n\"%(0, \"<PAD>\"))\n",
    "    outfile.write(\"%d %s\\n\"%(1, \"<UNK>\"))\n",
    "    for k, v in data.items():\n",
    "        out = \"%d %s\\n\"%(k+2,v)\n",
    "        outfile.write(out)"
   ]
  }
 ],
 "metadata": {
  "kernelspec": {
   "display_name": "Python 3",
   "language": "python",
   "name": "python3"
  },
  "language_info": {
   "codemirror_mode": {
    "name": "ipython",
    "version": 3
   },
   "file_extension": ".py",
   "mimetype": "text/x-python",
   "name": "python",
   "nbconvert_exporter": "python",
   "pygments_lexer": "ipython3",
   "version": "3.6.1"
  }
 },
 "nbformat": 4,
 "nbformat_minor": 2
}
