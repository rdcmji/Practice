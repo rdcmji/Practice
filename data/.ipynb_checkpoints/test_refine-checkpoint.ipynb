{
 "cells": [
  {
   "cell_type": "code",
   "execution_count": null,
   "metadata": {
    "collapsed": true
   },
   "outputs": [],
   "source": [
    "testn =3000\n",
    "trainn = 66846\n",
    "\n",
    "with open('test.3000.msg') as reader:\n",
    "    testmsg = []\n",
    "    for i in range(testn):\n",
    "        testmsg.append(reader.readline())\n",
    "\n",
    "with open('train.66846.msg') as reader:\n",
    "    trainmsg = []\n",
    "    for i in range(trainn):\n",
    "        trainmsg.append(reader.readline())\n",
    "       \n",
    "with open('test.3000.diff') as reader:\n",
    "    testdiff = []\n",
    "    for i in range(testn):\n",
    "        testdiff.append(reader.readline())\n",
    "\n",
    "with open('train.66846.diff') as reader:\n",
    "    traindiff = []\n",
    "    for i in range(trainn):\n",
    "        traindiff.append(reader.readline())"
   ]
  },
  {
   "cell_type": "code",
   "execution_count": null,
   "metadata": {},
   "outputs": [],
   "source": [
    "#find train_diff == test_diff index\n",
    "#and save index to ts\n",
    "ts=[]\n",
    "for i in range(trainn):\n",
    "    for j in range(testn):\n",
    "        if traindiff[i] == testdiff[j]:\n",
    "            ts.append(j)\n",
    "print len(ts)"
   ]
  },
  {
   "cell_type": "code",
   "execution_count": null,
   "metadata": {},
   "outputs": [],
   "source": [
    "# remove overlap index\n",
    "ts = list(set(ts))\n",
    "print len(ts)"
   ]
  },
  {
   "cell_type": "code",
   "execution_count": null,
   "metadata": {
    "collapsed": true
   },
   "outputs": [],
   "source": [
    "#sort, you can keep this step\n",
    "ts.sort\n",
    "#print ts"
   ]
  },
  {
   "cell_type": "code",
   "execution_count": null,
   "metadata": {},
   "outputs": [],
   "source": [
    "#중복되지 않았던 index list 생성\n",
    "#len([testdiff[i] for i in ts])\n",
    "slist = [i for j, i in enumerate(range(testn)) if j not in ts]\n",
    "len(slist)"
   ]
  },
  {
   "cell_type": "code",
   "execution_count": null,
   "metadata": {
    "collapsed": true
   },
   "outputs": [],
   "source": [
    "#남겨야 될 애들 남기기\n",
    "arange_test_diff = [testdiff[i] for i in slist]\n",
    "arange_test_msg = [testmsg[i] for i in slist]"
   ]
  },
  {
   "cell_type": "code",
   "execution_count": null,
   "metadata": {
    "collapsed": true
   },
   "outputs": [],
   "source": [
    "#msg 소문자로 바꾸기\n",
    "for i in range(len(arange_test_msg)):\n",
    "    arange_test_msg[i] = arange_test_msg[i].lower()"
   ]
  },
  {
   "cell_type": "code",
   "execution_count": null,
   "metadata": {},
   "outputs": [],
   "source": [
    "#ignore없는 msg의 index list 생성\n",
    "nig=[]\n",
    "for i in range(len(arange_test_msg)):\n",
    "    if arange_test_msg[i].find(\"ignore\") == -1:\n",
    "        nig.append(i)\n",
    "print(len(nig))"
   ]
  },
  {
   "cell_type": "code",
   "execution_count": null,
   "metadata": {
    "collapsed": true
   },
   "outputs": [],
   "source": [
    "#다시 diff랑 msg 생성\n",
    "f_test_diff = [arange_test_diff[i] for i in nig]\n",
    "f_test_msg = [arange_test_msg[i] for i in nig]"
   ]
  }
 ],
 "metadata": {
  "kernelspec": {
   "display_name": "Python 2",
   "language": "python",
   "name": "python2"
  },
  "language_info": {
   "codemirror_mode": {
    "name": "ipython",
    "version": 2
   },
   "file_extension": ".py",
   "mimetype": "text/x-python",
   "name": "python",
   "nbconvert_exporter": "python",
   "pygments_lexer": "ipython2",
   "version": "2.7.13"
  }
 },
 "nbformat": 4,
 "nbformat_minor": 2
}
